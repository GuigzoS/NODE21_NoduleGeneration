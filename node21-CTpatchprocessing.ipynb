{
 "cells": [
  {
   "cell_type": "markdown",
   "metadata": {},
   "source": [
    "# Node21 - CT patch preprocessing (by Guillaume Sallé, using generate_2d from NODE21 challenge)"
   ]
  },
  {
   "cell_type": "markdown",
   "metadata": {},
   "source": [
    "## Imports"
   ]
  },
  {
   "cell_type": "code",
   "execution_count": 1,
   "metadata": {},
   "outputs": [],
   "source": [
    "from SimpleITK import ReadImage, GetArrayFromImage\n",
    "from matplotlib.pyplot import hist\n",
    "import os\n",
    "import numpy as np\n",
    "import matplotlib.pyplot as plt\n",
    "import csv\n",
    "from matplotlib.pyplot import hist\n",
    "import pandas as pd"
   ]
  },
  {
   "cell_type": "markdown",
   "metadata": {},
   "source": [
    "## Helping functions"
   ]
  },
  {
   "cell_type": "code",
   "execution_count": 2,
   "metadata": {},
   "outputs": [],
   "source": [
    "def norm(arr):\n",
    "    \"\"\"\n",
    "    Normalize the array to [-1,1]\n",
    "    \"\"\"\n",
    "    mini=arr.min()\n",
    "    maxi=arr.max()\n",
    "    arr2 = (arr-mini)/(maxi-mini)*2-1.0\n",
    "    arr2[arr2>1]=1.0\n",
    "    arr2[arr2<-1]=-1.0\n",
    "    return arr2\n",
    "\n",
    "def generate_2d(X_ct, p_lambda = 0.85):\n",
    "    '''\n",
    "    Taken from NODE21 Challenge.\n",
    "    Generate 2D digitally reconstructed radiographs from CT scan. (DRR, fake CXR, simulated CXR)\n",
    "    X_ct: CT scan\n",
    "    p-lambda:  β controls the boosting of X-ray absorption as the tissue density increases.\n",
    "    We have chosen β=0.85 for our experiments after performing a visual comparison with real chest X-rays.\n",
    "    '''\n",
    "    X_ct[X_ct > 400] = 400\n",
    "    X_ct[X_ct < -500] = -500\n",
    "    X_ct += 1024\n",
    "    # 1424 524 698.748232\n",
    "    X_ct = X_ct/1000.0\n",
    "    X_ct *= p_lambda\n",
    "    X_ct[X_ct > 1] = 1\n",
    "    #1.0 0.4454 0.5866707652\n",
    "    X_ct_2d = np.mean(np.exp(X_ct), axis=1)\n",
    "    return X_ct_2d"
   ]
  },
  {
   "cell_type": "markdown",
   "metadata": {},
   "source": [
    "## Main pipeline : process CT nodules and adapt corresponding"
   ]
  },
  {
   "cell_type": "code",
   "execution_count": 3,
   "metadata": {
    "scrolled": true
   },
   "outputs": [
    {
     "name": "stdout",
     "output_type": "stream",
     "text": [
      "NaN found in some files (0): []\n",
      "New CSV saved\n"
     ]
    }
   ],
   "source": [
    "patch_path = os.path.join(\".\",\"..\",\"dataset_node21_MODIFIED\",\"ct_patches\",\"nodule_patches\")\n",
    "patchseg_path = os.path.join(\".\",\"..\",\"dataset_node21_MODIFIED\",\"ct_patches\",\"segmentation\")\n",
    "target_path = os.path.join(\".\",\"patch_v8nokmeans\")\n",
    "CSV_containg_diameters_path = os.path.join(\".\",\"..\",\"generation_baselineGS\",\"ct_nodules.csv\")\n",
    "CSV_target = os.path.join(\".\",\"ct_nodules_v8nokmeans.csv\")\n",
    "os.makedirs(target_path, exist_ok=True)\n",
    "\n",
    "patch_files = sorted(os.listdir(patch_path))\n",
    "tab = []\n",
    "NaN_files = []\n",
    "for i,f in enumerate(patch_files):\n",
    "    # Load CT nodule\n",
    "    seg_name = f.replace(\"dcm\", \"seg\")\n",
    "    patch = GetArrayFromImage(ReadImage(os.path.join(patch_path,f)))\n",
    "    seg = GetArrayFromImage(ReadImage(os.path.join(patchseg_path,seg_name)))\n",
    "    # Extract nodule and put minimum value of the patch as background\n",
    "    patch_only = patch #* seg\n",
    "    patch_only[patch_only==0]=np.min(patch)\n",
    "    # Generate 2D nodule and corresponding mask (by stacking the previous)\n",
    "    patch_stack = norm(generate_2d(patch_only))\n",
    "    # Sometimes it generates an array with only one value inside\n",
    "    # It creates a NaN when normalizing the array\n",
    "    # -> We don't save the nodule when there is a NaN\n",
    "    if not(np.isnan(patch_stack).any()):\n",
    "        seg_stack = np.sum(seg, axis=1)\n",
    "        seg_stack[seg_stack>=1] = 1\n",
    "        seg_stack[seg_stack<1] = 0\n",
    "        patch_stack[seg_stack==0] = 0\n",
    "        # Save results\n",
    "        tab.append(np.mean(patch_stack[seg_stack>0]))\n",
    "        if np.isnan(patch_stack).any():\n",
    "            print(\"NaN in \"+f)\n",
    "        np.save(os.path.join(target_path, f[:-3]+\"npy\"), patch_stack)\n",
    "        np.save(os.path.join(target_path, seg_name[:-3]+\"npy\"), seg_stack)\n",
    "    else:\n",
    "        NaN_files.append(f)\n",
    "        \n",
    "    #VISU = True\n",
    "    VISU = False\n",
    "    if VISU:\n",
    "        plt.subplot(1,2,1)\n",
    "        plt.imshow(patch_stack, cmap=\"gray\", vmin=-1.0, vmax=1.0)\n",
    "        plt.subplot(1,2,2)\n",
    "        plt.imshow(seg_stack, cmap=\"gray\", vmin=0.0, vmax=1.0)\n",
    "        plt.show()\n",
    "        if i==3:\n",
    "            break\n",
    "\n",
    "# Just to check that there is no NaN\n",
    "print(\"NaN found in some files (\"+str(len(NaN_files))+\"): \"+str(NaN_files))\n",
    "for f in os.listdir(target_path):\n",
    "    if \"seg\" not in f:\n",
    "        a = np.load(os.path.join(target_path, f))\n",
    "        if np.isnan(a).any():\n",
    "            print(\"there's still a problem\")\n",
    "\n",
    "# Remove NaN nodules from CSV containing diameters\n",
    "indices_to_drop = []\n",
    "CSV_containg_diameters = pd.read_csv(CSV_containg_diameters_path)\n",
    "# Find indices corresponding to NaN files\n",
    "for val in CSV_containg_diameters.values:\n",
    "    if val[1] in NaN_files:\n",
    "        indices_to_drop.append(val[0])\n",
    "# Drop these indices and remove first column (replaced automatically pandas)\n",
    "CSV_corrected = CSV_containg_diameters.drop(indices_to_drop)\n",
    "CSV_corrected = CSV_corrected.drop([\"Unnamed: 0\"], axis=1)\n",
    "# Just to check that there is no more NaN filename\n",
    "for val in CSV_corrected.values:\n",
    "    if val[1] in NaN_files:\n",
    "        print(\"there's still a problem with the CSV\")\n",
    "\n",
    "CSV_corrected.to_csv(CSV_target)\n",
    "print(\"New CSV saved\")"
   ]
  },
  {
   "cell_type": "code",
   "execution_count": 4,
   "metadata": {},
   "outputs": [
    {
     "data": {
      "text/plain": [
       "(array([332., 209., 203., 166., 140.,  89.,  30.,  10.,   5.,   2.]),\n",
       " array([-1.        , -0.83436865, -0.66873729, -0.50310594, -0.33747458,\n",
       "        -0.17184323, -0.00621188,  0.15941948,  0.32505083,  0.49068219,\n",
       "         0.65631354]),\n",
       " <BarContainer object of 10 artists>)"
      ]
     },
     "execution_count": 4,
     "metadata": {},
     "output_type": "execute_result"
    },
    {
     "data": {
      "image/png": "[encoded data removed]",
      "text/plain": [
       "<Figure size 432x288 with 1 Axes>"
      ]
     },
     "metadata": {
      "needs_background": "light"
     },
     "output_type": "display_data"
    }
   ],
   "source": [
    "hist(tab)"
   ]
  },
  {
   "cell_type": "code",
   "execution_count": null,
   "metadata": {},
   "outputs": [],
   "source": []
  }
 ],
 "metadata": {
  "kernelspec": {
   "display_name": "Python 3",
   "language": "python",
   "name": "python3"
  },
  "language_info": {
   "codemirror_mode": {
    "name": "ipython",
    "version": 3
   },
   "file_extension": ".py",
   "mimetype": "text/x-python",
   "name": "python",
   "nbconvert_exporter": "python",
   "pygments_lexer": "ipython3",
   "version": "3.8.10"
  }
 },
 "nbformat": 4,
 "nbformat_minor": 4
}
